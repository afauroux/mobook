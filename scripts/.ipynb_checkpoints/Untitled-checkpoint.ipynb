{
 "cells": [
  {
   "cell_type": "code",
   "execution_count": 44,
   "metadata": {},
   "outputs": [],
   "source": [
    "from requests import get\n",
    "from requests.exceptions import RequestException\n",
    "from contextlib import closing\n",
    "from bs4 import BeautifulSoup\n",
    "import re\n",
    "from tqdm import tqdm_notebook\n",
    "from yaml import load, dump\n",
    "from getbibli import *\n",
    "import json\n",
    "import multiprocessing as mp"
   ]
  },
  {
   "cell_type": "code",
   "execution_count": 45,
   "metadata": {},
   "outputs": [],
   "source": [
    "def download(book):\n",
    "    '''retireve the mp3 links from the url'''\n",
    "    bookpage =  BeautifulSoup(simple_get(book.url), 'html.parser')\n",
    "    files = bookpage.find_all(\n",
    "        \"a\", class_=\"link-mp3-file\") + bookpage.find_all(\"a\", class_=\"link-roman-mp3-file\")\n",
    "    book.files = [f['href'] for f in files]\n",
    "    return book\n",
    "\n",
    "class Book:\n",
    "    def __init__(self, author, title, category, url):\n",
    "        self.author =  author\n",
    "        self.title = title\n",
    "        self.category =  category\n",
    "        self.url = url\n",
    "        self.files = []\n",
    "        \n",
    "    def isDownloaded(self):\n",
    "        return len(self.files) > 0\n",
    "        \n",
    "    def toJson(self):\n",
    "        return json.dumps(self, default=lambda o: o.__dict__, \n",
    "            sort_keys=True, indent=4)\n",
    "\n",
    "    def __repr__(self):\n",
    "        return str(self.__dict__)\n",
    "        "
   ]
  },
  {
   "cell_type": "code",
   "execution_count": 46,
   "metadata": {},
   "outputs": [
    {
     "data": {
      "application/vnd.jupyter.widget-view+json": {
       "model_id": "95c62fe9b1184de3b7b17d33b382a2aa",
       "version_major": 2,
       "version_minor": 0
      },
      "text/plain": [
       "HBox(children=(IntProgress(value=0, max=1), HTML(value='')))"
      ]
     },
     "metadata": {},
     "output_type": "display_data"
    },
    {
     "data": {
      "application/vnd.jupyter.widget-view+json": {
       "model_id": "dbe9beda7ca041faa8ce98ecd9ddae84",
       "version_major": 2,
       "version_minor": 0
      },
      "text/plain": [
       "HBox(children=(IntProgress(value=0, max=4), HTML(value='')))"
      ]
     },
     "metadata": {},
     "output_type": "display_data"
    },
    {
     "name": "stdout",
     "output_type": "stream",
     "text": [
      "Arts\n"
     ]
    },
    {
     "data": {
      "application/vnd.jupyter.widget-view+json": {
       "model_id": "c15e5b7846d54849b29513928f2c1200",
       "version_major": 2,
       "version_minor": 0
      },
      "text/plain": [
       "HBox(children=(IntProgress(value=0, max=51), HTML(value='')))"
      ]
     },
     "metadata": {},
     "output_type": "display_data"
    },
    {
     "name": "stdout",
     "output_type": "stream",
     "text": [
      "Aventure\n"
     ]
    },
    {
     "data": {
      "application/vnd.jupyter.widget-view+json": {
       "model_id": "19f1100544154f6ebfb5a0e9166819fc",
       "version_major": 2,
       "version_minor": 0
      },
      "text/plain": [
       "HBox(children=(IntProgress(value=0, max=120), HTML(value='')))"
      ]
     },
     "metadata": {},
     "output_type": "display_data"
    },
    {
     "name": "stdout",
     "output_type": "stream",
     "text": [
      "Érotisme\n"
     ]
    },
    {
     "data": {
      "application/vnd.jupyter.widget-view+json": {
       "model_id": "f9e9afc6d0ed4ea2bc873b180a74461a",
       "version_major": 2,
       "version_minor": 0
      },
      "text/plain": [
       "HBox(children=(IntProgress(value=0, max=47), HTML(value='')))"
      ]
     },
     "metadata": {},
     "output_type": "display_data"
    },
    {
     "name": "stdout",
     "output_type": "stream",
     "text": [
      "Biographies\n"
     ]
    },
    {
     "data": {
      "application/vnd.jupyter.widget-view+json": {
       "model_id": "2e08d56581774a9ab49a2faf4f9fd7a7",
       "version_major": 2,
       "version_minor": 0
      },
      "text/plain": [
       "HBox(children=(IntProgress(value=0, max=278), HTML(value='')))"
      ]
     },
     "metadata": {},
     "output_type": "display_data"
    }
   ],
   "source": [
    "\n",
    "\n",
    "title_matcher = re.compile(\"(.+) [-–] (.+)\")\n",
    "bibli = []\n",
    "for page in tqdm_notebook(pages[:1]):\n",
    "    raw_html = simple_get(page)\n",
    "    html = BeautifulSoup(raw_html, 'html.parser')\n",
    "    for p in html.select('ul'):\n",
    "        if 'Catégorie' in p.select_one('li').text:\n",
    "            break\n",
    "    \n",
    "    for li in tqdm_notebook(p.findChildren(\"li\", recursive=False)):\n",
    "\n",
    "        booklist = li.find('ul')\n",
    "        category = booklist.previousSibling\n",
    "        category = str(category).split(':')[1].strip() if 'Catégorie' in category else category.text\n",
    "        print(category)\n",
    "        c = 0\n",
    "        for b in tqdm_notebook(booklist.findChildren(\"li\", recursive=False)):\n",
    "            link = b.select_one('a')\n",
    "            m = title_matcher.match(link['title'])\n",
    "            assert m is not None, f\"title {link['title']} doesn't match\"\n",
    "            bibli.append(Book(\n",
    "                author = m.group(1),\n",
    "                title = m.group(2),\n",
    "                category = category,\n",
    "                url = link['href']\n",
    "            ))\n",
    "            \n",
    "            \n"
   ]
  },
  {
   "cell_type": "code",
   "execution_count": 47,
   "metadata": {},
   "outputs": [
    {
     "data": {
      "text/plain": [
       "{'author': \"AXA, Zo (d')\", 'title': \"Par l'image\", 'category': 'Arts', 'url': 'http://www.litteratureaudio.com/livre-audio-gratuit-mp3/axa-zo-d-par-limage.html', 'files': ['http://www.litteratureaudio.org/mp3/Zo_d_Axa_-_Endehors_Par_l_Image.mp3']}"
      ]
     },
     "execution_count": 47,
     "metadata": {},
     "output_type": "execute_result"
    }
   ],
   "source": [
    "download(bibli[0])"
   ]
  },
  {
   "cell_type": "code",
   "execution_count": 53,
   "metadata": {},
   "outputs": [
    {
     "name": "stdout",
     "output_type": "stream",
     "text": [
      "[{'author': \"AXA, Zo (d')\", 'title': \"Par l'image\", 'category': 'Arts', 'url': 'http://www.litteratureaudio.com/livre-audio-gratuit-mp3/axa-zo-d-par-limage.html', 'files': ['http://www.litteratureaudio.org/mp3/Zo_d_Axa_-_Endehors_Par_l_Image.mp3']}, {'author': 'BAUDELAIRE, Charles', 'title': 'Richard Wagner et Tannhäuser à Paris', 'category': 'Arts', 'url': 'http://www.litteratureaudio.com/livre-audio-gratuit-mp3/baudelaire-charles-richard-wagner-et-tannhauser-a-paris.html', 'files': ['http://www.litteratureaudio.org/mp3/Charles_Baudelaire_-_Richard_Wagner_et_Tannhauser_a_Paris_Chap1.mp3', 'http://www.litteratureaudio.org/mp3/Charles_Baudelaire_-_Richard_Wagner_et_Tannhauser_a_Paris_Chap1.mp3', 'http://www.litteratureaudio.org/mp3/Charles_Baudelaire_-_Richard_Wagner_et_Tannhauser_a_Paris_Chap2.mp3', 'http://www.litteratureaudio.org/mp3/Charles_Baudelaire_-_Richard_Wagner_et_Tannhauser_a_Paris_Chap3.mp3', 'http://www.litteratureaudio.org/mp3/Charles_Baudelaire_-_Richard_Wagner_et_Tannhauser_a_Paris_Chap4.mp3', 'http://www.litteratureaudio.org/mp3/Charles_Baudelaire_-_Richard_Wagner_et_Tannhauser_a_Paris_Encore_quelques_mots.mp3']}, {'author': 'BLAZE DE BURY, Henri', 'title': 'Mozart et la Flûte Enchantée', 'category': 'Arts', 'url': 'http://www.litteratureaudio.com/livre-audio-gratuit-mp3/blaze-de-bury-henri-mozart-et-la-flute-enchantee.html', 'files': ['http://www.litteratureaudio.org/mp3/Henri_Blaze_de_Bury_-_Mozart_et_la_Flute_Enchantee_Chap00.mp3', 'http://www.litteratureaudio.org/mp3/Henri_Blaze_de_Bury_-_Mozart_et_la_Flute_Enchantee_Chap00.mp3', 'http://www.litteratureaudio.org/mp3/Henri_Blaze_de_Bury_-_Mozart_et_la_Flute_Enchantee_Chap01.mp3', 'http://www.litteratureaudio.org/mp3/Henri_Blaze_de_Bury_-_Mozart_et_la_Flute_Enchantee_Chap02.mp3', 'http://www.litteratureaudio.org/mp3/Henri_Blaze_de_Bury_-_Mozart_et_la_Flute_Enchantee_Chap03.mp3']}, {'author': 'BOREL, Pétrus', 'title': \"L'Obélisque de Louqsor\", 'category': 'Arts', 'url': 'http://www.litteratureaudio.com/livre-audio-gratuit-mp3/borel-petrus-lobelisque-de-louqsor.html', 'files': ['http://www.litteratureaudio.org/mp3/Borel_-_L_obelisque_de_Louqsor.mp3']}, {'author': \"BOVE, Emmanuel - Un peintre de l'aventure\", 'title': \"Le Retour de l'enfant\", 'category': 'Arts', 'url': 'http://www.litteratureaudio.com/livre-audio-gratuit-mp3/bove-emmanuel-un-peintre-de-laventure-le-retour-de-lenfant.html', 'files': ['http://www.litteratureaudio.org/mp3/Bone_-_Le_peintre_de_l_aventure.mp3', 'http://www.litteratureaudio.org/mp3/Bone_-_Le_retour_de_l_enfant.mp3']}, {'author': 'CÉZANNE, Paul', 'title': 'Pensées sur la peinture', 'category': 'Arts', 'url': 'http://www.litteratureaudio.com/livre-audio-gratuit-mp3/cezanne-paul-pensees-sur-la-peinture.html', 'files': []}, {'author': 'DIDEROT, Denis', 'title': 'Essai sur la peinture (1766)', 'category': 'Arts', 'url': 'http://www.litteratureaudio.com/livre-audio-gratuit-mp3/diderot-denis-essai-sur-la-peinture-1766.html', 'files': ['http://www.litteratureaudio.org/mp3/DIDEROT_Denis_ESSAI_SUR_LA_PEINTURE_chap1_DESSIN_Fich01.mp3', 'http://www.litteratureaudio.org/mp3/DIDEROT_Denis_ESSAI_SUR_LA_PEINTURE_chap1_DESSIN_Fich01.mp3', 'http://www.litteratureaudio.org/mp3/DIDEROT_Denis_ESSAI_SUR_LA_PEINTURE_chap2_COULEUR_Fich02.mp3', 'http://www.litteratureaudio.org/mp3/DIDEROT_Denis_ESSAI_SUR_LA_PEINTURE_chap3_CLAIR_OBSCUR_Fich03.mp3', 'http://www.litteratureaudio.org/mp3/DIDEROT_Denis_ESSAI_SUR_LA_PEINTURE_chap4_EXPRESSION_Fich04.mp3', 'http://www.litteratureaudio.org/mp3/DIDEROT_Denis_ESSAI_SUR_LA_PEINTURE_chap5_COMPOSITION_Fich05.mp3', 'http://www.litteratureaudio.org/mp3/DIDEROT_Denis_ESSAI_SUR_LA_PEINTURE_chap6_ARCHITECTURE_Fich06.mp3', 'http://www.litteratureaudio.org/mp3/DIDEROT_Denis_ESSAI_SUR_LA_PEINTURE_chap7_COROLLAIRE_Fich07.mp3']}, {'author': 'DIVERS', 'title': 'Edward Hopper', 'category': 'Arts', 'url': 'http://www.litteratureaudio.com/livre-audio-gratuit-mp3/divers-edward-hopper.html', 'files': ['http://www.litteratureaudio.org/mp3/Edward_Hopper_01_Intro1.mp3', 'http://www.litteratureaudio.org/mp3/Edward_Hopper_01_Intro1.mp3', 'http://www.litteratureaudio.org/mp3/Edward_Hopper_02_Intro2.mp3', 'http://www.litteratureaudio.org/mp3/Edward_Hopper_03_Gas.mp3', 'http://www.litteratureaudio.org/mp3/Edward_Hopper_04_Morning_sun.mp3', 'http://www.litteratureaudio.org/mp3/Edward_Hopper_05_Nighthawks.mp3', 'http://www.litteratureaudio.org/mp3/Edward_Hopper_06_Ground_swell.mp3', 'http://www.litteratureaudio.org/mp3/Edward_Hopper_07_Soir_bleu.mp3', 'http://www.litteratureaudio.org/mp3/Edward_Hopper_08_Office_at_night.mp3', 'http://www.litteratureaudio.org/mp3/Edward_Hopper_09_House_by_the_railroad.mp3', 'http://www.litteratureaudio.org/mp3/Edward_Hopper_10_New_York_movie.mp3', 'http://www.litteratureaudio.org/mp3/Edward_Hopper_11_Two_comedians.mp3']}, {'author': 'FAURE, Élie', 'title': 'Charlot', 'category': 'Arts', 'url': 'http://www.litteratureaudio.com/livre-audio-gratuit-mp3/faure-elie-%e2%80%93-charlot.html', 'files': ['http://www.litteratureaudio.org/mp3/Elie_Faure_-_Charlot.mp3']}, {'author': 'FLAMANT, Nathanaël', 'title': 'Daumal le voyant', 'category': 'Arts', 'url': 'http://www.litteratureaudio.com/livre-audio-gratuit-mp3/flamant-nathanael-daumal-le-voyant.html', 'files': ['http://www.litteratureaudio.org/mp3/Flamant_Nathanael_-_Daumal_Le_Voyant.mp3']}]\n",
      "CPU times: user 12.6 s, sys: 153 ms, total: 12.7 s\n",
      "Wall time: 16.5 s\n"
     ]
    }
   ],
   "source": [
    "%%time \n",
    "results=[]\n",
    "for b in bibli[:10]:\n",
    "    results.append(download(b))\n",
    "print(results)"
   ]
  },
  {
   "cell_type": "code",
   "execution_count": 55,
   "metadata": {},
   "outputs": [
    {
     "name": "stdout",
     "output_type": "stream",
     "text": [
      "[{'author': \"AXA, Zo (d')\", 'title': \"Par l'image\", 'category': 'Arts', 'url': 'http://www.litteratureaudio.com/livre-audio-gratuit-mp3/axa-zo-d-par-limage.html', 'files': ['http://www.litteratureaudio.org/mp3/Zo_d_Axa_-_Endehors_Par_l_Image.mp3']}, {'author': 'BAUDELAIRE, Charles', 'title': 'Richard Wagner et Tannhäuser à Paris', 'category': 'Arts', 'url': 'http://www.litteratureaudio.com/livre-audio-gratuit-mp3/baudelaire-charles-richard-wagner-et-tannhauser-a-paris.html', 'files': ['http://www.litteratureaudio.org/mp3/Charles_Baudelaire_-_Richard_Wagner_et_Tannhauser_a_Paris_Chap1.mp3', 'http://www.litteratureaudio.org/mp3/Charles_Baudelaire_-_Richard_Wagner_et_Tannhauser_a_Paris_Chap1.mp3', 'http://www.litteratureaudio.org/mp3/Charles_Baudelaire_-_Richard_Wagner_et_Tannhauser_a_Paris_Chap2.mp3', 'http://www.litteratureaudio.org/mp3/Charles_Baudelaire_-_Richard_Wagner_et_Tannhauser_a_Paris_Chap3.mp3', 'http://www.litteratureaudio.org/mp3/Charles_Baudelaire_-_Richard_Wagner_et_Tannhauser_a_Paris_Chap4.mp3', 'http://www.litteratureaudio.org/mp3/Charles_Baudelaire_-_Richard_Wagner_et_Tannhauser_a_Paris_Encore_quelques_mots.mp3']}, {'author': 'BLAZE DE BURY, Henri', 'title': 'Mozart et la Flûte Enchantée', 'category': 'Arts', 'url': 'http://www.litteratureaudio.com/livre-audio-gratuit-mp3/blaze-de-bury-henri-mozart-et-la-flute-enchantee.html', 'files': ['http://www.litteratureaudio.org/mp3/Henri_Blaze_de_Bury_-_Mozart_et_la_Flute_Enchantee_Chap00.mp3', 'http://www.litteratureaudio.org/mp3/Henri_Blaze_de_Bury_-_Mozart_et_la_Flute_Enchantee_Chap00.mp3', 'http://www.litteratureaudio.org/mp3/Henri_Blaze_de_Bury_-_Mozart_et_la_Flute_Enchantee_Chap01.mp3', 'http://www.litteratureaudio.org/mp3/Henri_Blaze_de_Bury_-_Mozart_et_la_Flute_Enchantee_Chap02.mp3', 'http://www.litteratureaudio.org/mp3/Henri_Blaze_de_Bury_-_Mozart_et_la_Flute_Enchantee_Chap03.mp3']}, {'author': 'BOREL, Pétrus', 'title': \"L'Obélisque de Louqsor\", 'category': 'Arts', 'url': 'http://www.litteratureaudio.com/livre-audio-gratuit-mp3/borel-petrus-lobelisque-de-louqsor.html', 'files': ['http://www.litteratureaudio.org/mp3/Borel_-_L_obelisque_de_Louqsor.mp3']}, {'author': \"BOVE, Emmanuel - Un peintre de l'aventure\", 'title': \"Le Retour de l'enfant\", 'category': 'Arts', 'url': 'http://www.litteratureaudio.com/livre-audio-gratuit-mp3/bove-emmanuel-un-peintre-de-laventure-le-retour-de-lenfant.html', 'files': ['http://www.litteratureaudio.org/mp3/Bone_-_Le_peintre_de_l_aventure.mp3', 'http://www.litteratureaudio.org/mp3/Bone_-_Le_retour_de_l_enfant.mp3']}, {'author': 'CÉZANNE, Paul', 'title': 'Pensées sur la peinture', 'category': 'Arts', 'url': 'http://www.litteratureaudio.com/livre-audio-gratuit-mp3/cezanne-paul-pensees-sur-la-peinture.html', 'files': []}, {'author': 'DIDEROT, Denis', 'title': 'Essai sur la peinture (1766)', 'category': 'Arts', 'url': 'http://www.litteratureaudio.com/livre-audio-gratuit-mp3/diderot-denis-essai-sur-la-peinture-1766.html', 'files': ['http://www.litteratureaudio.org/mp3/DIDEROT_Denis_ESSAI_SUR_LA_PEINTURE_chap1_DESSIN_Fich01.mp3', 'http://www.litteratureaudio.org/mp3/DIDEROT_Denis_ESSAI_SUR_LA_PEINTURE_chap1_DESSIN_Fich01.mp3', 'http://www.litteratureaudio.org/mp3/DIDEROT_Denis_ESSAI_SUR_LA_PEINTURE_chap2_COULEUR_Fich02.mp3', 'http://www.litteratureaudio.org/mp3/DIDEROT_Denis_ESSAI_SUR_LA_PEINTURE_chap3_CLAIR_OBSCUR_Fich03.mp3', 'http://www.litteratureaudio.org/mp3/DIDEROT_Denis_ESSAI_SUR_LA_PEINTURE_chap4_EXPRESSION_Fich04.mp3', 'http://www.litteratureaudio.org/mp3/DIDEROT_Denis_ESSAI_SUR_LA_PEINTURE_chap5_COMPOSITION_Fich05.mp3', 'http://www.litteratureaudio.org/mp3/DIDEROT_Denis_ESSAI_SUR_LA_PEINTURE_chap6_ARCHITECTURE_Fich06.mp3', 'http://www.litteratureaudio.org/mp3/DIDEROT_Denis_ESSAI_SUR_LA_PEINTURE_chap7_COROLLAIRE_Fich07.mp3']}, {'author': 'DIVERS', 'title': 'Edward Hopper', 'category': 'Arts', 'url': 'http://www.litteratureaudio.com/livre-audio-gratuit-mp3/divers-edward-hopper.html', 'files': ['http://www.litteratureaudio.org/mp3/Edward_Hopper_01_Intro1.mp3', 'http://www.litteratureaudio.org/mp3/Edward_Hopper_01_Intro1.mp3', 'http://www.litteratureaudio.org/mp3/Edward_Hopper_02_Intro2.mp3', 'http://www.litteratureaudio.org/mp3/Edward_Hopper_03_Gas.mp3', 'http://www.litteratureaudio.org/mp3/Edward_Hopper_04_Morning_sun.mp3', 'http://www.litteratureaudio.org/mp3/Edward_Hopper_05_Nighthawks.mp3', 'http://www.litteratureaudio.org/mp3/Edward_Hopper_06_Ground_swell.mp3', 'http://www.litteratureaudio.org/mp3/Edward_Hopper_07_Soir_bleu.mp3', 'http://www.litteratureaudio.org/mp3/Edward_Hopper_08_Office_at_night.mp3', 'http://www.litteratureaudio.org/mp3/Edward_Hopper_09_House_by_the_railroad.mp3', 'http://www.litteratureaudio.org/mp3/Edward_Hopper_10_New_York_movie.mp3', 'http://www.litteratureaudio.org/mp3/Edward_Hopper_11_Two_comedians.mp3']}, {'author': 'FAURE, Élie', 'title': 'Charlot', 'category': 'Arts', 'url': 'http://www.litteratureaudio.com/livre-audio-gratuit-mp3/faure-elie-%e2%80%93-charlot.html', 'files': ['http://www.litteratureaudio.org/mp3/Elie_Faure_-_Charlot.mp3']}, {'author': 'FLAMANT, Nathanaël', 'title': 'Daumal le voyant', 'category': 'Arts', 'url': 'http://www.litteratureaudio.com/livre-audio-gratuit-mp3/flamant-nathanael-daumal-le-voyant.html', 'files': ['http://www.litteratureaudio.org/mp3/Flamant_Nathanael_-_Daumal_Le_Voyant.mp3']}]\n",
      "CPU times: user 44.9 ms, sys: 53.4 ms, total: 98.3 ms\n",
      "Wall time: 7.44 s\n"
     ]
    }
   ],
   "source": [
    "%%time \n",
    "pool = mp.Pool(processes=10)\n",
    "results = pool.map(download, bibli[:10])\n",
    "print(results)"
   ]
  },
  {
   "cell_type": "code",
   "execution_count": 15,
   "metadata": {},
   "outputs": [],
   "source": [
    "json.dump(bibli,  open('bibli.json','w'))"
   ]
  },
  {
   "cell_type": "code",
   "execution_count": 31,
   "metadata": {},
   "outputs": [],
   "source": [
    "dump({'Bibliothèques':{'Catégories': bibli},    \n",
    "    \"Reprendre la lecture en cours\":None,\n",
    "    \"quel heure est-t-il?\":None,\"Quitter l'application\":None},  open('bibli.yaml','w'),allow_unicode=True)"
   ]
  },
  {
   "cell_type": "code",
   "execution_count": null,
   "metadata": {},
   "outputs": [],
   "source": [
    "results"
   ]
  },
  {
   "cell_type": "code",
   "execution_count": null,
   "metadata": {},
   "outputs": [],
   "source": []
  }
 ],
 "metadata": {
  "kernelspec": {
   "display_name": "Python 3",
   "language": "python",
   "name": "python3"
  },
  "language_info": {
   "codemirror_mode": {
    "name": "ipython",
    "version": 3
   },
   "file_extension": ".py",
   "mimetype": "text/x-python",
   "name": "python",
   "nbconvert_exporter": "python",
   "pygments_lexer": "ipython3",
   "version": "3.6.5"
  }
 },
 "nbformat": 4,
 "nbformat_minor": 2
}
